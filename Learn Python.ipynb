{
 "cells": [
  {
   "cell_type": "markdown",
   "id": "41c1a271",
   "metadata": {},
   "source": [
    "<h1 style = \"font-size:5rem; color: red\"><center> Python Basic </h1>"
   ]
  },
  {
   "cell_type": "markdown",
   "id": "2ed3718b",
   "metadata": {},
   "source": [
    "# FOR\n"
   ]
  },
  {
   "cell_type": "markdown",
   "id": "ff1b5c87",
   "metadata": {},
   "source": [
    "First example:"
   ]
  },
  {
   "cell_type": "code",
   "execution_count": 2,
   "id": "25516fe4",
   "metadata": {},
   "outputs": [
    {
     "name": "stdout",
     "output_type": "stream",
     "text": [
      "2\n",
      "4\n",
      "6\n",
      "8\n"
     ]
    }
   ],
   "source": [
    "for i in range(2, 10, 2):\n",
    "    print(i)"
   ]
  },
  {
   "cell_type": "markdown",
   "id": "8876f949",
   "metadata": {},
   "source": [
    "Second example:"
   ]
  },
  {
   "cell_type": "code",
   "execution_count": 5,
   "id": "7058e45b",
   "metadata": {
    "scrolled": true
   },
   "outputs": [
    {
     "name": "stdout",
     "output_type": "stream",
     "text": [
      "a = 6\n",
      "a = 21\n"
     ]
    }
   ],
   "source": [
    "a = int(input(\"a = \"))\n",
    "if a % 2 == 0:\n",
    "    for i in range(1,6):\n",
    "        a += i\n",
    "    print(\"a =\", a)\n",
    "else:\n",
    "    print(\"Khong tinh so le\")"
   ]
  },
  {
   "cell_type": "code",
   "execution_count": 7,
   "id": "f84d1dc0",
   "metadata": {},
   "outputs": [
    {
     "name": "stdout",
     "output_type": "stream",
     "text": [
      "1\n",
      "2\n",
      "4\n"
     ]
    }
   ],
   "source": [
    "for i in range(1,5):\n",
    "    if i == 3: \n",
    "        continue\n",
    "    print(i)"
   ]
  },
  {
   "cell_type": "markdown",
   "id": "6f86cccd",
   "metadata": {},
   "source": [
    "## Exercises"
   ]
  },
  {
   "cell_type": "markdown",
   "id": "0fc18473",
   "metadata": {},
   "source": [
    "TH11"
   ]
  },
  {
   "cell_type": "code",
   "execution_count": 10,
   "id": "4c301335",
   "metadata": {},
   "outputs": [
    {
     "name": "stdout",
     "output_type": "stream",
     "text": [
      "12 15 18 21 24 27 30 33 36 39 42 45 48 "
     ]
    }
   ],
   "source": [
    "for i in range(10, 51):\n",
    "    if i % 3 == 0:\n",
    "        print(i, end = \" \")"
   ]
  },
  {
   "cell_type": "markdown",
   "id": "ecd4f724",
   "metadata": {},
   "source": [
    "TH12\n"
   ]
  },
  {
   "cell_type": "code",
   "execution_count": 1,
   "id": "e0fd2aac",
   "metadata": {},
   "outputs": [
    {
     "name": "stdout",
     "output_type": "stream",
     "text": [
      "4037913\n"
     ]
    }
   ],
   "source": [
    "\"\"\"def giaithua(n):\n",
    "    result = 1\n",
    "    for i in range(1, n + 1):\n",
    "        result *= i\n",
    "    return result\n",
    "\n",
    "sum = 0\n",
    "for i in range(1, 11):\n",
    "    sum += giaithua(i)\n",
    "print(sum)\"\"\"\n",
    "\n",
    "m = 1\n",
    "sum = 0\n",
    "\n",
    "for i in range(1, 11):\n",
    "    m *= i\n",
    "    sum += m\n",
    "\n",
    "print(sum)"
   ]
  },
  {
   "cell_type": "markdown",
   "id": "6a34e66f",
   "metadata": {},
   "source": [
    "TH13"
   ]
  },
  {
   "cell_type": "code",
   "execution_count": 13,
   "id": "9340d6ac",
   "metadata": {},
   "outputs": [
    {
     "name": "stdout",
     "output_type": "stream",
     "text": [
      "6 28 496 "
     ]
    }
   ],
   "source": [
    "def sohoanthien(n):\n",
    "    sum = 0\n",
    "    for i in range(1,n):\n",
    "        if n % i == 0:\n",
    "            sum += i\n",
    "    if sum == n:\n",
    "        return True\n",
    "    else: return False\n",
    "\n",
    "for i in range(1, 1000 + 1):\n",
    "    if sohoanthien(i) == True:\n",
    "        print(i, end = \" \")"
   ]
  },
  {
   "cell_type": "markdown",
   "id": "09b81ca3",
   "metadata": {},
   "source": [
    "TH14"
   ]
  },
  {
   "cell_type": "code",
   "execution_count": 2,
   "id": "2f10b191",
   "metadata": {},
   "outputs": [
    {
     "name": "stdout",
     "output_type": "stream",
     "text": [
      "x = 3\n",
      "n = 3\n",
      "sum = 12.0\n"
     ]
    }
   ],
   "source": [
    "x = int(input(\"x = \"))\n",
    "n = int(input(\"n = \"))\n",
    "sum = 0\n",
    "m = 1\n",
    "\n",
    "for i in range(1, n + 1):\n",
    "    m *= i\n",
    "    sum += x**i / m\n",
    "\n",
    "print(\"sum =\", sum)"
   ]
  },
  {
   "cell_type": "markdown",
   "id": "fdf113cc",
   "metadata": {},
   "source": [
    "TH15"
   ]
  },
  {
   "cell_type": "code",
   "execution_count": 8,
   "id": "601665ca",
   "metadata": {},
   "outputs": [
    {
     "name": "stdout",
     "output_type": "stream",
     "text": [
      "Input number: 3\n",
      "3 is prime!\n",
      "Do you wanna continue?(Y/N): y\n",
      "Input number: 2\n",
      "2 is prime!\n",
      "Do you wanna continue?(Y/N): n\n"
     ]
    }
   ],
   "source": [
    "def check_prime(n):\n",
    "    for i in range(2, n):\n",
    "        if n % i == 0:\n",
    "            return False\n",
    "    return True\n",
    "\n",
    "while True:\n",
    "    number = int(input(\"Input number: \"))\n",
    "    \n",
    "    if check_prime(number) == True:\n",
    "        print(number,\"is prime!\")\n",
    "    else:\n",
    "        print(number,\"is not prime!\")\n",
    "    \n",
    "    ctn = input(\"Do you wanna continue?(Y/N): \")\n",
    "    if ctn == \"y\" or ctn == \"Y\":\n",
    "        continue\n",
    "    else:\n",
    "        break\n",
    "    "
   ]
  },
  {
   "cell_type": "markdown",
   "id": "b54d9a3f",
   "metadata": {},
   "source": [
    "TH16"
   ]
  },
  {
   "cell_type": "code",
   "execution_count": 13,
   "id": "834c58b1",
   "metadata": {},
   "outputs": [
    {
     "name": "stdout",
     "output_type": "stream",
     "text": [
      "year = 38\n"
     ]
    }
   ],
   "source": [
    "number_people = 95.5\n",
    "increase_rate = 1.2/100\n",
    "year = 0\n",
    "\n",
    "while True:\n",
    "    number_people = number_people + number_people * increase_rate\n",
    "    year += 1\n",
    "    \n",
    "    if number_people >= 150:\n",
    "        break\n",
    "\n",
    "print(\"year =\", year)\n",
    "    "
   ]
  },
  {
   "cell_type": "markdown",
   "id": "f40d0cfe",
   "metadata": {},
   "source": [
    "TH17"
   ]
  },
  {
   "cell_type": "code",
   "execution_count": 14,
   "id": "73e3ae90",
   "metadata": {},
   "outputs": [
    {
     "name": "stdout",
     "output_type": "stream",
     "text": [
      "45\n"
     ]
    }
   ],
   "source": [
    "debt = 400\n",
    "interest = 0.1\n",
    "payment = 10\n",
    "\n",
    "debt = 400 - 10 * 12\n",
    "year = 12\n",
    "\n",
    "while True:\n",
    "    debt = debt - 10 + debt * interest / 12\n",
    "    year += 1\n",
    "    \n",
    "    if debt <=0:\n",
    "        break\n",
    "\n",
    "print(year)"
   ]
  },
  {
   "cell_type": "markdown",
   "id": "fd32f651",
   "metadata": {},
   "source": [
    "## For lồng nhau\n"
   ]
  },
  {
   "cell_type": "code",
   "execution_count": 4,
   "id": "faae8b8f",
   "metadata": {},
   "outputs": [
    {
     "name": "stdout",
     "output_type": "stream",
     "text": [
      "2 * 2 = 4\n",
      "2 * 3 = 6\n",
      "3 * 2 = 6\n",
      "3 * 3 = 9\n"
     ]
    }
   ],
   "source": [
    "for i in range(2, 4):\n",
    "    for j in range(2, 4):\n",
    "        print(i,\"*\",j,\"=\",i * j)"
   ]
  },
  {
   "cell_type": "code",
   "execution_count": 10,
   "id": "0da080c0",
   "metadata": {},
   "outputs": [
    {
     "name": "stdout",
     "output_type": "stream",
     "text": [
      "*           * \n",
      "* *         * \n",
      "*   *       * \n",
      "*     *     * \n",
      "*       *   * \n",
      "*         * * \n",
      "*           * \n"
     ]
    }
   ],
   "source": [
    "for j in range(7):\n",
    "    for i in range(7):\n",
    "        if i == 0 or i == 6 or i == j:\n",
    "            print(\"*\", end = \" \")\n",
    "        else:\n",
    "            print(\" \", end = \" \")\n",
    "    print(end = \"\\n\")"
   ]
  },
  {
   "cell_type": "markdown",
   "id": "98333c29",
   "metadata": {},
   "source": [
    "<h1 style=\"font-size:4rem;color:yellow\"> Hàm</h1>"
   ]
  },
  {
   "cell_type": "markdown",
   "id": "f27f0dfd",
   "metadata": {},
   "source": [
    "<h1 style=\"font-size:2rem;color:green\"> Time</h1>\n"
   ]
  },
  {
   "cell_type": "markdown",
   "id": "3a06ec23",
   "metadata": {},
   "source": [
    "import time #hàm thư viện\n",
    "- time.time(): trả về số giây tính từ 1/1/1970\n"
   ]
  },
  {
   "cell_type": "code",
   "execution_count": 1,
   "id": "8ce42a68",
   "metadata": {},
   "outputs": [
    {
     "name": "stdout",
     "output_type": "stream",
     "text": [
      "1695305001.039039\n"
     ]
    }
   ],
   "source": [
    "import time\n",
    "second = time.time()\n",
    "print(second)"
   ]
  },
  {
   "cell_type": "markdown",
   "id": "c4ad4df2",
   "metadata": {},
   "source": [
    "- time.ctime(): trả về số giây từ 1/1/1970 dạng chuỗi"
   ]
  },
  {
   "cell_type": "code",
   "execution_count": 2,
   "id": "9f33b7fe",
   "metadata": {},
   "outputs": [
    {
     "name": "stdout",
     "output_type": "stream",
     "text": [
      "Thu Sep 21 21:04:34 2023\n"
     ]
    }
   ],
   "source": [
    "print(time.ctime())"
   ]
  },
  {
   "cell_type": "markdown",
   "id": "1178064b",
   "metadata": {},
   "source": [
    "- time.sleep(): delay chương trình theo số giây"
   ]
  },
  {
   "cell_type": "code",
   "execution_count": 3,
   "id": "7422e4c2",
   "metadata": {},
   "outputs": [
    {
     "name": "stdout",
     "output_type": "stream",
     "text": [
      "Loading.......\n",
      "Done\n"
     ]
    }
   ],
   "source": [
    "print(\"Loading.......\")\n",
    "time.sleep(5)\n",
    "print(\"Done\")"
   ]
  },
  {
   "cell_type": "markdown",
   "id": "1f863d91",
   "metadata": {},
   "source": [
    "- time.localtime(): trả về thời gian\n",
    "> tm_year - năm, tm_mon - tháng, tm_mday - ngày trong tháng, tm_hour - giờ, tm_min - phút, tm_sec - giây, tm_wday - ngày trong tuần, tm_yday - ngày trong năm\n"
   ]
  },
  {
   "cell_type": "code",
   "execution_count": 11,
   "id": "cc75ac4c",
   "metadata": {},
   "outputs": [
    {
     "name": "stdout",
     "output_type": "stream",
     "text": [
      "time.struct_time(tm_year=2023, tm_mon=9, tm_mday=21, tm_hour=22, tm_min=19, tm_sec=28, tm_wday=3, tm_yday=264, tm_isdst=0)\n",
      "year present is 2023\n"
     ]
    }
   ],
   "source": [
    "import time\n",
    "ntime = time.localtime()\n",
    "print(ntime)\n",
    "print(\"year present is\", ntime.tm_year)"
   ]
  },
  {
   "cell_type": "markdown",
   "id": "8dd58c0f",
   "metadata": {},
   "source": [
    "- time.strftime(\"%m/%d/%y,%H:%M/:%S\", t): trả về năm tháng tuần...hiện tại "
   ]
  },
  {
   "cell_type": "code",
   "execution_count": 15,
   "id": "6667207a",
   "metadata": {},
   "outputs": [
    {
     "name": "stdout",
     "output_type": "stream",
     "text": [
      "21/09/23\n"
     ]
    }
   ],
   "source": [
    "import time\n",
    "t = time.localtime()\n",
    "stime = time.strftime(\"%d/%m/%y\", t)\n",
    "print(stime)"
   ]
  },
  {
   "cell_type": "markdown",
   "id": "4f62b885",
   "metadata": {},
   "source": [
    "<h1 style=\"font-size:2rem;color:green\"> Round</h1>"
   ]
  },
  {
   "cell_type": "markdown",
   "id": "47bf70f2",
   "metadata": {},
   "source": [
    "Công thức: round(number, ndigits)\n",
    "- number: số bạn muốn làm tròn\n",
    "- ndigits: số chữ số sau dấu phẩy\n",
    ">Note: Nếu không có ndigits, hàm sẽ trả về số nguyên gần nhất"
   ]
  },
  {
   "cell_type": "code",
   "execution_count": 2,
   "id": "9e32ffbf",
   "metadata": {},
   "outputs": [
    {
     "name": "stdout",
     "output_type": "stream",
     "text": [
      "Input a: 4.251\n",
      "Input b: 1.237\n",
      "a = 4.251\n",
      "b = 1.24\n",
      "a/b = 3\n"
     ]
    }
   ],
   "source": [
    "a = float(input(\"Input a: \"))\n",
    "b = float(input(\"Input b: \"))\n",
    "\n",
    "print(\"a =\",round(a,3))\n",
    "print(\"b =\",round(b,2))\n",
    "print(\"a/b =\", round(a/b))"
   ]
  },
  {
   "cell_type": "markdown",
   "id": "f34b054e",
   "metadata": {},
   "source": [
    "<h1 style=\"font-size:2rem;color:green\">Eval() </h1>\n",
    "- Tự động tính toán 1 chuỗi\n"
   ]
  },
  {
   "cell_type": "code",
   "execution_count": 5,
   "id": "d99c5b40",
   "metadata": {},
   "outputs": [
    {
     "name": "stdout",
     "output_type": "stream",
     "text": [
      "<class 'str'>\n",
      "-14.375\n"
     ]
    }
   ],
   "source": [
    "s = \"1 + 5 / 8 - 2 * (3 + 5)\"\n",
    "print(type(s))\n",
    "print(eval(s))"
   ]
  },
  {
   "cell_type": "markdown",
   "id": "4008abe2",
   "metadata": {},
   "source": [
    "<h1 style=\"font-size:2rem;color:green\">Random() </h1>\n",
    "- Lấy số ngẫu nhiên\n"
   ]
  },
  {
   "cell_type": "markdown",
   "id": "f9c43cc5",
   "metadata": {},
   "source": [
    "Công thức: \n",
    ">- from random import randrange #import thư viện\n",
    ">- randrange(x,y) -> lấy ngẫu nhiên >=x, < y\n",
    "\n",
    "Note: không có đối số x thì mặc định chạy từ 0                                        \n",
    "                                         "
   ]
  },
  {
   "cell_type": "code",
   "execution_count": 6,
   "id": "a2242990",
   "metadata": {},
   "outputs": [
    {
     "name": "stdout",
     "output_type": "stream",
     "text": [
      "67\n"
     ]
    }
   ],
   "source": [
    "from random import randrange\n",
    "a = randrange(1, 100)\n",
    "print(a)"
   ]
  },
  {
   "cell_type": "code",
   "execution_count": 10,
   "id": "b944551f",
   "metadata": {},
   "outputs": [
    {
     "name": "stdout",
     "output_type": "stream",
     "text": [
      "Guess a numer between 1 and 100: 56\n",
      "Your guess is lower than number!\n",
      "Guess again: 87\n",
      "Your guess is higer than number!\n",
      "Guess again: 73\n",
      "Your guess is higer than number!\n",
      "Guess again: 65\n",
      "Your guess is lower than number!\n",
      "Guess again: 69\n",
      "Your guess is higer than number!\n",
      "Guess again: 67\n",
      "You fail!\n",
      "Number is: 66\n"
     ]
    }
   ],
   "source": [
    "from random import randint\n",
    "number = randint(1, 100)\n",
    "guess = int(input(\"Guess a numer between 1 and 100: \"))\n",
    "count = 0\n",
    "\n",
    "while guess != number and count < 5:\n",
    "    if guess > number:\n",
    "        print(\"Your guess is higer than number!\")\n",
    "        count += 1\n",
    "    elif guess < number: \n",
    "        print(\"Your guess is lower than number!\")\n",
    "        count += 1\n",
    "    guess = int(input(\"Guess again: \"))\n",
    "\n",
    "if count < 5: \n",
    "    print(\"Your guess is right!\")\n",
    "else:\n",
    "    print(\"You fail!\")\n",
    "    print(\"Number is:\", number)"
   ]
  },
  {
   "cell_type": "markdown",
   "id": "fcf1d8f9",
   "metadata": {},
   "source": [
    "<h1 style=\"font-size:2rem;color:green\">Def() </h1>"
   ]
  },
  {
   "cell_type": "markdown",
   "id": "1dbd96f2",
   "metadata": {},
   "source": [
    "1. Khái niệm hàm\n",
    "- Hàm thư viên: là những hàm được thư viện xây dựng sẵn. Muốn sử dụng thì khai báo thư viện trong from...import\n",
    "- Hàm do người dùng tự định nghĩa\n",
    "2. Hàm do người dùng tự định nghĩa\n",
    "- Công thức: \\\n",
    "def name (parameter list):\\\n",
    "     block\n",
    "3. Hàm def có đối số và không có đối số\n",
    "\n",
    "\n"
   ]
  },
  {
   "cell_type": "code",
   "execution_count": 14,
   "id": "f8b8c1e5",
   "metadata": {},
   "outputs": [
    {
     "name": "stdout",
     "output_type": "stream",
     "text": [
      "x = 3\n",
      "y = 4\n",
      "sum = 7\n"
     ]
    }
   ],
   "source": [
    "def add(x, y):\n",
    "    return x + y\n",
    "\n",
    "x = int(input(\"x = \"))\n",
    "y = int(input(\"y = \"))\n",
    "\n",
    "sum = add(x, y)\n",
    "print(\"sum =\",sum)"
   ]
  },
  {
   "cell_type": "code",
   "execution_count": 17,
   "id": "033e1dfa",
   "metadata": {},
   "outputs": [
    {
     "name": "stdout",
     "output_type": "stream",
     "text": [
      "a = 4\n",
      "b = 2\n",
      "x = -0.5\n"
     ]
    }
   ],
   "source": [
    "def pbt1(a, b): #ax + b = 0\n",
    "    if a == 0 and b == 0:\n",
    "        return \"Vo so nghiem\"\n",
    "    elif a == 0 and b != 0:\n",
    "        return \"Vo nghiem\"\n",
    "    else:\n",
    "        return \"x = {}\".format(-b/a)\n",
    "\n",
    "a = int(input(\"a = \"))\n",
    "b = int(input(\"b = \"))\n",
    "\n",
    "print(pbt1(a, b))"
   ]
  },
  {
   "cell_type": "markdown",
   "id": "f869cd5c",
   "metadata": {},
   "source": [
    "Exercise:\n"
   ]
  },
  {
   "cell_type": "code",
   "execution_count": 19,
   "id": "6bc142c7",
   "metadata": {},
   "outputs": [
    {
     "name": "stdout",
     "output_type": "stream",
     "text": [
      "Input renueve: 45\n",
      "Input expense: 15\n",
      "You should invest\n"
     ]
    }
   ],
   "source": [
    "def roi(renueve, expense):\n",
    "    return (renueve - expense)/expense\n",
    "\n",
    "def invest_decision(roi):\n",
    "    if (roi >= 0.75):\n",
    "        print(\"You should invest\")\n",
    "    else:\n",
    "        print(\"You shouldn't invest\")\n",
    "\n",
    "re = float(input(\"Input renueve: \"))\n",
    "ex = float(input(\"Input expense: \"))\n",
    "invest_decision(roi(re,ex))"
   ]
  },
  {
   "cell_type": "markdown",
   "id": "e244aaff",
   "metadata": {},
   "source": [
    "<h1 style=\"font-size:2rem;color:green\">Global Variable </h1>\n"
   ]
  },
  {
   "cell_type": "markdown",
   "id": "7405e711",
   "metadata": {},
   "source": [
    "> Các biến trong hàm chỉ có phạm vi ảnh hưởng trong hàm, gọi là biến local. Thoát khỏi hàm này thì biến không truy xuất được"
   ]
  },
  {
   "cell_type": "code",
   "execution_count": 20,
   "id": "43822c32",
   "metadata": {},
   "outputs": [
    {
     "name": "stdout",
     "output_type": "stream",
     "text": [
      "5\n",
      "500\n"
     ]
    }
   ],
   "source": [
    "a = 5\n",
    "def rs():\n",
    "    global a\n",
    "    a = 500\n",
    "\n",
    "print(a)\n",
    "rs()\n",
    "print(a)"
   ]
  },
  {
   "cell_type": "markdown",
   "id": "eac68700",
   "metadata": {},
   "source": [
    "<h1 style=\"font-size:2rem;color:green\">Hàm đệ quy </h1>"
   ]
  },
  {
   "cell_type": "markdown",
   "id": "0521463a",
   "metadata": {},
   "source": [
    "- Đệ quy là cách dùng hàm để gọi lại chính nó\n",
    "- Để giải bằng đệ quy cần dùng 2 điều kiện:\n",
    "<ol>\n",
    "    <li>Điểm dừng của bài toán</li>\n",
    "    <li>Quy luật của bài toán</li>\n",
    "</ol>"
   ]
  },
  {
   "cell_type": "code",
   "execution_count": 22,
   "id": "e40b8e25",
   "metadata": {},
   "outputs": [
    {
     "name": "stdout",
     "output_type": "stream",
     "text": [
      "24\n"
     ]
    }
   ],
   "source": [
    "def giaithua(n):\n",
    "    if n == 0:\n",
    "        return 1\n",
    "    else:\n",
    "        return n * giaithua(n - 1)\n",
    "\n",
    "print(giaithua(4))"
   ]
  },
  {
   "cell_type": "code",
   "execution_count": 3,
   "id": "ac0d6100",
   "metadata": {},
   "outputs": [
    {
     "name": "stdout",
     "output_type": "stream",
     "text": [
      "144\n"
     ]
    }
   ],
   "source": [
    "def Fibo(n):\n",
    "    if n == 1 or n == 2:\n",
    "        return 1\n",
    "    else:\n",
    "        return Fibo(n - 1) + Fibo(n - 2)\n",
    "\n",
    "print(Fibo(12))"
   ]
  },
  {
   "cell_type": "markdown",
   "id": "b7060d31",
   "metadata": {},
   "source": [
    "<h1 style=\"font-size:4rem;color:yellow\"> String</h1>"
   ]
  },
  {
   "cell_type": "markdown",
   "id": "1b05ea7f",
   "metadata": {},
   "source": [
    "<ol>\n",
    "    <li>Cách sử dụng string, string luôn nằm trong: (''), (\"\"), (''' '''), (\"\"\" \"\"\")</li>\n",
    "    <li>Kiểm tra độ dài của chuỗi</li>\n",
    "    <li>Truy vấn chuỗi (scan từng phần tử) dùng vòng for</li>\n",
    "    <li>Cộng ghép string</li>\n",
    "    <li>Nhân string với số nguyên</li>\n",
    "    <li>Kiểm tra 1 ký tự hoặc đoạn ký tự có nằm trong string không</li>\n",
    "    <li>Xuất chuỗi theo vị trí index</li>\n",
    "</ol>"
   ]
  },
  {
   "cell_type": "markdown",
   "id": "9ab48b2f",
   "metadata": {},
   "source": [
    "VD 1, 2, 3:"
   ]
  },
  {
   "cell_type": "code",
   "execution_count": 15,
   "id": "643f1505",
   "metadata": {},
   "outputs": [
    {
     "name": "stdout",
     "output_type": "stream",
     "text": [
      "\n",
      "python\n",
      "css\n",
      "\n",
      "12\n"
     ]
    }
   ],
   "source": [
    "a1 = '''\n",
    "python\n",
    "css\n",
    "'''\n",
    "print(a1)\n",
    "print(len(a1))"
   ]
  },
  {
   "cell_type": "markdown",
   "id": "10087a92",
   "metadata": {},
   "source": [
    "VD 4, 5:"
   ]
  },
  {
   "cell_type": "code",
   "execution_count": 14,
   "id": "c671ae2f",
   "metadata": {},
   "outputs": [
    {
     "name": "stdout",
     "output_type": "stream",
     "text": [
      "Cao Nguyen\n",
      "NguyenNguyenNguyen\n"
     ]
    }
   ],
   "source": [
    "a = \"Cao\"\n",
    "b = \"Nguyen\"\n",
    "c = a + \" \" + b\n",
    "print(c)\n",
    "print(b * 3)"
   ]
  },
  {
   "cell_type": "markdown",
   "id": "7ec4985f",
   "metadata": {},
   "source": [
    "VD 6:"
   ]
  },
  {
   "cell_type": "code",
   "execution_count": 16,
   "id": "3e9e4f92",
   "metadata": {},
   "outputs": [
    {
     "name": "stdout",
     "output_type": "stream",
     "text": [
      "True\n",
      "False\n"
     ]
    }
   ],
   "source": [
    "print(a in c)\n",
    "print(\"abc\" in c)"
   ]
  },
  {
   "cell_type": "markdown",
   "id": "4ed334c5",
   "metadata": {},
   "source": [
    "VD 7:"
   ]
  },
  {
   "cell_type": "code",
   "execution_count": 32,
   "id": "b0ee19ee",
   "metadata": {},
   "outputs": [
    {
     "name": "stdout",
     "output_type": "stream",
     "text": [
      "yen\n",
      "guyen\n",
      "en\n",
      "neyugn\n"
     ]
    }
   ],
   "source": [
    "a = \"nguyen\"\n",
    "print(a[3:6])\n",
    "print(a[1:])\n",
    "print(a[-2:])\n",
    "print(a[::-1])"
   ]
  },
  {
   "cell_type": "markdown",
   "id": "70e3fa29",
   "metadata": {},
   "source": [
    "Exercise:"
   ]
  },
  {
   "cell_type": "code",
   "execution_count": 34,
   "id": "ca3b77c1",
   "metadata": {},
   "outputs": [
    {
     "name": "stdout",
     "output_type": "stream",
     "text": [
      "Input string: phan cao nguyen\n",
      "String: phan cao nguyen\n",
      "First: p - Last: n\n",
      "Odd characters: \n",
      "h n c o n u e "
     ]
    }
   ],
   "source": [
    "str = input(\"Input string: \")\n",
    "\n",
    "print(\"String:\", str)\n",
    "print(\"First:\", str[0], \"- Last:\", str[-1])\n",
    "\n",
    "print(\"Odd characters: \")\n",
    "for i in range(len(str)):\n",
    "    if i % 2 != 0:\n",
    "        print(str[i], end = \" \")"
   ]
  },
  {
   "cell_type": "markdown",
   "id": "f254358b",
   "metadata": {},
   "source": [
    "<h1 style=\"font-size:2rem;color:green\">Hàm xử lý của String </h1>"
   ]
  },
  {
   "cell_type": "markdown",
   "id": "ad67a3e2",
   "metadata": {},
   "source": [
    "<ol>\n",
    "    <li>str.strip(chars): xóa kí tự đầu cuối</li>\n",
    "    <li>str.count('chars', start, end): đếm số lần xuất hiện của char trong string</li>\n",
    "    <li>str.capitalize(): viết hoa ký tự đầu</li>\n",
    "    <li>str.replace(oldstr, newstr, count): đổi kí tự cũ sang kí tự mới. Không chỉ định count thì đổi toàn bộ chuỗi, nếu có thì đổi theo số lần count</li>\n",
    "    <li>str.find(\"char\", start, end): tìm kiếm vị trí lần đầu ký tự xuất hiện, không nhập start, end thì tìm cả chuỗi</li>\n",
    "    <li>str.isalnum(): return True nếu chuổi chỉ có chữ cái và số, False nếu chuỗi có các ký tự đặc biệt khác</li>\n",
    "    <li>str.isdigit(): return True nếu chỉ có số, False nếu có ký tự khác số</li>\n",
    "    <li>str.isalpha(): True nếu chỉ có chữ cái</li>\n",
    "    <li>str.isspace(): True nếu chỉ có space</li>\n",
    "    <li>str.islower(): True nếu chỉ có ký tự viết thường</li>\n",
    "    <li>str.isupper(): True nếu chỉ có ký tự viết hoa</li>\n",
    "    <li>str.istilte(): True nếu chữ cái đầu chuỗi viết hoa</li>\n",
    "    <li>str.upper(): viết hoa toàn bộ chuỗi</li>\n",
    "    <li>str.lower(): viết thường toàn bộ chuỗi</li>\n",
    "    <li>str.split(sep, maxsplit): Tách ký tự cả string theo sep, nếu không thiết lập mặc định sep là space, maxsplit là số lần tách lớn nhất</li>\n",
    "</ol>\n"
   ]
  },
  {
   "cell_type": "code",
   "execution_count": 43,
   "id": "46973870",
   "metadata": {},
   "outputs": [
    {
     "name": "stdout",
     "output_type": "stream",
     "text": [
      "nguyen\n"
     ]
    }
   ],
   "source": [
    "str = \"**nguyen**\"\n",
    "str = str.strip(\"*\")\n",
    "print(str)"
   ]
  },
  {
   "cell_type": "code",
   "execution_count": 47,
   "id": "a803e7a0",
   "metadata": {},
   "outputs": [
    {
     "name": "stdout",
     "output_type": "stream",
     "text": [
      "1\n",
      "vala\n"
     ]
    }
   ],
   "source": [
    "ex = \"valalalungta\"\n",
    "print(ex.count(\"la\", 0, 4))"
   ]
  },
  {
   "cell_type": "code",
   "execution_count": 12,
   "id": "89c535b3",
   "metadata": {},
   "outputs": [
    {
     "name": "stdout",
     "output_type": "stream",
     "text": [
      "['Ph', 'n C', 'o Nguyen']\n",
      "Phan Cao Nguyen\n"
     ]
    }
   ],
   "source": [
    "a = \"Phan Cao Nguyen\"\n",
    "asp = a.split(\"a\",3)\n",
    "print(asp)\n",
    "arr = \"a\".join(asp)\n",
    "print(arr)"
   ]
  },
  {
   "cell_type": "markdown",
   "id": "6529a6fe",
   "metadata": {},
   "source": [
    "Exercise:"
   ]
  },
  {
   "cell_type": "code",
   "execution_count": 14,
   "id": "b827f2bf",
   "metadata": {},
   "outputs": [
    {
     "name": "stdout",
     "output_type": "stream",
     "text": [
      "Input string: phan cao nguyen\n",
      "So nguyen am: 5\n"
     ]
    }
   ],
   "source": [
    "s = input(\"Input string: \")\n",
    "count = 0\n",
    "\n",
    "for i in s:\n",
    "    if i in [\"u\", \"e\", \"o\", \"a\", \"i\"]:\n",
    "        count += 1\n",
    "\n",
    "print(\"So nguyen am:\", count)"
   ]
  },
  {
   "cell_type": "markdown",
   "id": "18abb1b9",
   "metadata": {},
   "source": [
    "BT String1:\n"
   ]
  },
  {
   "cell_type": "code",
   "execution_count": 31,
   "id": "aa72e546",
   "metadata": {},
   "outputs": [
    {
     "name": "stdout",
     "output_type": "stream",
     "text": [
      "Tong cac so trong chuoi: 294\n",
      "Trung binh cong cac so: 73.5\n"
     ]
    }
   ],
   "source": [
    "str1 = \"English = 78, Science = 83, Math = 68, History = 65\"\n",
    "sum = 0\n",
    "num = 0\n",
    "count = 0\n",
    "\n",
    "for i in range(len(str1)):\n",
    "    if str1[i].isdigit():\n",
    "        if str1[i-1].isdigit():\n",
    "            num = num*10 + int(str1[i])\n",
    "        else:\n",
    "            num = int(str1[i])\n",
    "        \n",
    "        if i == len(str1) - 1:\n",
    "            sum += num\n",
    "            count += 1\n",
    "    elif num != 0:\n",
    "        sum += num\n",
    "        num = 0\n",
    "        count += 1\n",
    "\n",
    "print(\"Tong cac so trong chuoi:\", sum)\n",
    "print(\"Trung binh cong cac so:\", round(sum/count, 2))"
   ]
  },
  {
   "cell_type": "markdown",
   "id": "19b7812a",
   "metadata": {},
   "source": [
    "BT String2:\n"
   ]
  },
  {
   "cell_type": "code",
   "execution_count": 4,
   "id": "b7a2ece5",
   "metadata": {},
   "outputs": [
    {
     "name": "stdout",
     "output_type": "stream",
     "text": [
      "Password needs at least 6 characters, include least 1 number and 1 letter!\n",
      "Create your password: nguyen\n",
      "Invalid password! Password needs at least 6 characters, include least 1 number and 1 letter!\n",
      "Input wrong 1/5 times\n",
      "Create your password again: nguyen24\n",
      "Create password successful!\n",
      "Input your password: nguyen2\n",
      "Incorrect password! Input wrong 1/5 times\n",
      "Input your password again: nguyen24\n",
      "Login successful!\n"
     ]
    }
   ],
   "source": [
    "def check_digit(str):\n",
    "    for i in str:\n",
    "        if i.isdigit():\n",
    "            return True\n",
    "    return False\n",
    "\n",
    "def check_alpha(str):\n",
    "    for i in str:\n",
    "        if i.isalpha():\n",
    "            return True\n",
    "    return False\n",
    "\n",
    "print(\"Password needs at least 6 characters, include least 1 number and 1 letter!\")\n",
    "\n",
    "password = input(\"Create your password: \")\n",
    "count = 0\n",
    "\n",
    "while not(len(password) >= 6 and check_digit(password) and check_alpha(password) and count < 5):\n",
    "    count += 1\n",
    "    print(\"Invalid password! Password needs at least 6 characters, include least 1 number and 1 letter!\")\n",
    "    print(f\"Input wrong {count}/5 times\")\n",
    "    password = input(\"Create your password again: \")\n",
    "    \n",
    "if count == 5:\n",
    "    print(\"Create password fail!\")\n",
    "    password = \"\"\n",
    "else:\n",
    "    print(\"Create password successful!\")\n",
    "\n",
    "    login = input(\"Input your password: \")\n",
    "    count = 0\n",
    "\n",
    "    while login != password and count < 5:\n",
    "        count += 1\n",
    "        print(f\"Incorrect password! Input wrong {count}/5 times\")\n",
    "        login = input(\"Input your password again: \")\n",
    "\n",
    "    if count == 5:\n",
    "        print(\"Wrong password 5 times! Can't login!\")\n",
    "    else:\n",
    "        print(\"Login successful!\")"
   ]
  },
  {
   "cell_type": "markdown",
   "id": "f261b958",
   "metadata": {},
   "source": [
    "BT String3:"
   ]
  },
  {
   "cell_type": "code",
   "execution_count": 5,
   "id": "686ba364",
   "metadata": {},
   "outputs": [
    {
     "name": "stdout",
     "output_type": "stream",
     "text": [
      "Input string: phan cao nguyen\n",
      "lazj czk jmtobj\n"
     ]
    }
   ],
   "source": [
    "old = \"abcdefghijklmnopqrstuvwxyz\"\n",
    "new = \"zxcvbnmasdfghjklqwertyuiop\"\n",
    "\n",
    "str = input(\"Input string: \")\n",
    "nstr = \"\"\n",
    "\n",
    "for i in str:\n",
    "    pos = old.find(i)\n",
    "    if pos < 0:\n",
    "        nstr += i\n",
    "    else:\n",
    "        nstr += new[pos]\n",
    "\n",
    "print(nstr)"
   ]
  },
  {
   "cell_type": "markdown",
   "id": "cddb140e",
   "metadata": {},
   "source": [
    "BT String4:"
   ]
  },
  {
   "cell_type": "code",
   "execution_count": 6,
   "id": "12d272fb",
   "metadata": {},
   "outputs": [
    {
     "name": "stdout",
     "output_type": "stream",
     "text": [
      "Số lần xuất hiện chữ tôi là 3\n"
     ]
    }
   ],
   "source": [
    "a = \"\"\"\n",
    "tôi chăm học\n",
    "tôi chịu khó\n",
    "tôi đẹp trai\n",
    "\"\"\"\n",
    "dem = 0\n",
    "\n",
    "for i in range(len(a)):\n",
    "    if a[i] == \"t\" and a[i + 1] == \"ô\" and a[i + 2] == \"i\":\n",
    "        dem += 1\n",
    "\n",
    "print(f\"Số lần xuất hiện chữ tôi là {dem}\") "
   ]
  },
  {
   "cell_type": "markdown",
   "id": "1599b51c",
   "metadata": {},
   "source": [
    "BT String5:"
   ]
  },
  {
   "cell_type": "code",
   "execution_count": 7,
   "id": "d5c253b6",
   "metadata": {},
   "outputs": [
    {
     "name": "stdout",
     "output_type": "stream",
     "text": [
      "Input string: abc123\n",
      "Only alpha string: abc\n",
      "Only digit string: 123\n"
     ]
    }
   ],
   "source": [
    "str = input(\"Input string: \")\n",
    "\n",
    "alpha = \"\"\n",
    "digit = \"\"\n",
    "\n",
    "for i in str:\n",
    "    if i.isalpha():\n",
    "        alpha += i\n",
    "    elif i.isdigit():\n",
    "        digit += i\n",
    "\n",
    "print(\"Only alpha string:\", alpha)\n",
    "print(\"Only digit string:\", digit)"
   ]
  },
  {
   "cell_type": "markdown",
   "id": "581cddc2",
   "metadata": {},
   "source": [
    "<h1 style=\"font-size:4rem;color:yellow\"> List</h1>"
   ]
  },
  {
   "cell_type": "markdown",
   "id": "dc949187",
   "metadata": {},
   "source": [
    "<ol>\n",
    "    <li>Khái niệm: Kiểu dữ liệu List dùng để chứa một dãy nhiều phần tử. Các phần tử cảu một List được đặt trong cặp dấu [] </li>\n",
    "    <li>Khởi tạo List rỗng: lst = [] | Khởi tạo List có 10 phần tử 0: lst2 = [0] * 10 </li>\n",
    "    <li>Phần tử của List có thể là chuỗi, số, các list nhỏ hoặc là hỗn hợp, nhưng nên dùng thống nhất 1 loại kiểu dữ liệu</li>\n",
    "    <li>Truy xuất phần tử trong List(bắt đầu từ 0)</li>\n",
    "    <li>Thay đổi phần tử(Gọi ra rồi gán lại)</li>\n",
    "    <li>Xóa 1 phần tử(Gọi tên để xóa): del list[index]</li>\n",
    "    <li>Xóa 1 giá trị chỉ định trong list: list.remove('value')</li>\n",
    "    <li>Xóa cả list: del list</li>\n",
    "    <li>Tìm max min của list: min() - max()</li>\n",
    "    <li>Kiểm tra độ dài list: len()</li>\n",
    "    <li>Thêm phần tử vào cuối list: listname.append(value)</li>\n",
    "    <li>Đếm phần tử của list: listname.count(value)</li>\n",
    "    <li>Đảo ngược list: list.reverse()</li>\n",
    "    <li>Insert phần tử mới vào vị trí chỉ định: listname.insert(index, value)</li>\n",
    "</ol>"
   ]
  },
  {
   "cell_type": "code",
   "execution_count": 15,
   "id": "c3668c8a",
   "metadata": {},
   "outputs": [
    {
     "name": "stdout",
     "output_type": "stream",
     "text": [
      "c\n",
      "1\n",
      "[1, 2, 3, 4, 'd']\n"
     ]
    }
   ],
   "source": [
    "lst = [\"a\", \"b\", \"c\"]\n",
    "print(max(lst))\n",
    "\n",
    "lst = [1, 2, 3, 4]\n",
    "print(min(lst))\n",
    "\n",
    "lst.append(\"d\")\n",
    "print(lst)"
   ]
  },
  {
   "cell_type": "code",
   "execution_count": null,
   "id": "981e49dc",
   "metadata": {},
   "outputs": [],
   "source": []
  }
 ],
 "metadata": {
  "kernelspec": {
   "display_name": "Python 3 (ipykernel)",
   "language": "python",
   "name": "python3"
  },
  "language_info": {
   "codemirror_mode": {
    "name": "ipython",
    "version": 3
   },
   "file_extension": ".py",
   "mimetype": "text/x-python",
   "name": "python",
   "nbconvert_exporter": "python",
   "pygments_lexer": "ipython3",
   "version": "3.11.4"
  }
 },
 "nbformat": 4,
 "nbformat_minor": 5
}
